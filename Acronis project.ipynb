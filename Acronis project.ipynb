{
 "cells": [
  {
   "cell_type": "code",
   "execution_count": 17,
   "metadata": {},
   "outputs": [],
   "source": [
    "import torch\n",
    "from torch import nn\n",
    "import pandas as pd\n",
    "import numpy as np\n",
    "from sklearn.model_selection import train_test_split\n",
    "from matplotlib import pyplot as plt\n",
    "from sklearn.ensemble import ExtraTreesClassifier\n",
    "from sklearn.metrics import accuracy_score"
   ]
  },
  {
   "cell_type": "code",
   "execution_count": 80,
   "metadata": {},
   "outputs": [],
   "source": [
    "#Генератор батчей\n",
    "def batch_generator(X, y, batch_size):\n",
    "    perm = np.random.permutation(len(X))\n",
    "    num_samples = X.shape[0]\n",
    "    sample_length = X.shape[1]\n",
    "    num_batches = num_samples // batch_size\n",
    "    extra_batch_len = num_samples - (batch_size*num_batches)\n",
    "    extra_batch_flag = 0\n",
    "    if (extra_batch_len != 0):\n",
    "        extra_batch_flag = 1\n",
    "    for i in range(num_batches + extra_batch_flag):\n",
    "        if (i == num_batches):\n",
    "            X_batch = np.zeros((extra_batch_len, sample_length))\n",
    "            y_batch = np.zeros((extra_batch_len))\n",
    "            for j in range(extra_batch_len):\n",
    "                X_batch[j] = X[perm[i*batch_size + j]]\n",
    "                y_batch[j] = y[perm[i*batch_size + j]]\n",
    "            yield X_batch, y_batch\n",
    "        else:\n",
    "            X_batch = np.zeros((batch_size, sample_length))\n",
    "            y_batch = np.zeros((batch_size))\n",
    "            for j in range(batch_size):\n",
    "                X_batch[j] = X[perm[i*batch_size + j]]\n",
    "                y_batch[j] = y[perm[i*batch_size + j]]\n",
    "            yield X_batch, y_batch\n",
    "            "
   ]
  },
  {
   "cell_type": "code",
   "execution_count": null,
   "metadata": {},
   "outputs": [],
   "source": [
    "#Загружаем данные\n",
    "data = pd.read_csv('behavior.csv')"
   ]
  },
  {
   "cell_type": "code",
   "execution_count": 136,
   "metadata": {},
   "outputs": [],
   "source": [
    "#Берем их (имя не влияет на вредоносность, не берем его)\n",
    "X = data.iloc[:, 1:854]\n",
    "y = data.iloc[:, -1]"
   ]
  },
  {
   "cell_type": "code",
   "execution_count": 137,
   "metadata": {},
   "outputs": [],
   "source": [
    "#Нормализуем\n",
    "X = X - X.mean()\n",
    "X = np.array(X/X.std())\n",
    "y = np.array(y)"
   ]
  },
  {
   "cell_type": "code",
   "execution_count": 140,
   "metadata": {},
   "outputs": [],
   "source": [
    "#Появились NaN -> X.std в колонке = 0 -> убираем колонку (не информативно)\n",
    "Nans = np.argwhere(np.isnan(X[0]))\n",
    "X = np.delete(X, Nans, axis = 1)"
   ]
  },
  {
   "cell_type": "code",
   "execution_count": null,
   "metadata": {},
   "outputs": [],
   "source": [
    "#Какие признаки важны?\n",
    "model = ExtraTreesClassifier()\n",
    "model.fit(X,y)"
   ]
  },
  {
   "cell_type": "code",
   "execution_count": 142,
   "metadata": {},
   "outputs": [],
   "source": [
    "#Отрезаем 30 самых информативных\n",
    "features_indexes = model.feature_importances_\n",
    "features_indexes = np.array(features_indexes)\n",
    "features_indexes = features_indexes.argsort()[-30:]"
   ]
  },
  {
   "cell_type": "code",
   "execution_count": 143,
   "metadata": {},
   "outputs": [],
   "source": [
    "X = X[:, features_indexes]"
   ]
  },
  {
   "cell_type": "code",
   "execution_count": 150,
   "metadata": {},
   "outputs": [],
   "source": [
    "#Отрезаем тестовую выборку\n",
    "X_train, X_test, y_train, y_test = train_test_split(X, y)\n",
    "X_train = torch.FloatTensor(X_train)\n",
    "y_train = torch.LongTensor(y_train)\n",
    "X_test = torch.FloatTensor(X_test)\n",
    "y_test = torch.LongTensor(y_test)"
   ]
  },
  {
   "cell_type": "code",
   "execution_count": 194,
   "metadata": {},
   "outputs": [],
   "source": [
    "#Модель\n",
    "model = nn.Sequential(\n",
    "    nn.Linear(30, 500),\n",
    "    nn.ReLU(),\n",
    "    nn.Dropout(p=0.7),\n",
    "    nn.BatchNorm1d(500),\n",
    "    nn.Linear(500,500),\n",
    "    nn.ReLU(),\n",
    "    nn.Dropout(p=0.7),\n",
    "    nn.BatchNorm1d(500),\n",
    "    nn.Linear(500, 2)\n",
    ")\n",
    "    \n",
    "loss_fn = nn.CrossEntropyLoss()\n",
    "optimizer = torch.optim.Adam(model.parameters(), lr = 0.0001)"
   ]
  },
  {
   "cell_type": "code",
   "execution_count": 195,
   "metadata": {},
   "outputs": [],
   "source": [
    "#Функция тренировки + подсчет loss и accuracy (для анализа и улучшения модели)\n",
    "def train(X_train, y_train, X_test, y_test, num_epoch):\n",
    "    train_losses = []\n",
    "    test_losses = []\n",
    "    train_accuracy = []\n",
    "    test_accuracy = []\n",
    "    for i in range(num_epoch):\n",
    "        epoch_train_losses = []\n",
    "        for X_batch, y_batch in batch_generator(X_train, y_train, 5000):\n",
    "            model.train(True)\n",
    "            y_predict = model.forward(torch.FloatTensor(X_batch))\n",
    "            loss = loss_fn(y_predict, torch.LongTensor(y_batch))\n",
    "            optimizer.zero_grad()\n",
    "            loss.backward()\n",
    "            optimizer.step()\n",
    "            epoch_train_losses.append(loss.item())        \n",
    "        train_losses.append(np.mean(epoch_train_losses))\n",
    "        model.train(False)\n",
    "        with torch.no_grad():\n",
    "            test_y_predict = model.forward(X_test)\n",
    "            test_loss = loss_fn(test_y_predict, torch.LongTensor(y_test))\n",
    "            test_losses.append(test_loss.item())\n",
    "            train_pred = model.forward(X_train).max(1)[1]\n",
    "            test_pred = model.forward(X_test).max(1)[1]\n",
    "            train_accuracy.append(accuracy_score(y_true = y_train, y_pred = train_pred))\n",
    "            test_accuracy.append(accuracy_score(y_true = y_test, y_pred = test_pred))\n",
    "            \n",
    "            \n",
    "    return train_losses, test_losses, train_accuracy, test_accuracy"
   ]
  },
  {
   "cell_type": "code",
   "execution_count": null,
   "metadata": {},
   "outputs": [],
   "source": [
    "#Тренируем модель\n",
    "train_losses, test_losses, train_accuracy, test_accuracy= train(X_train, y_train, X_test, y_test, 200)"
   ]
  },
  {
   "cell_type": "code",
   "execution_count": null,
   "metadata": {},
   "outputs": [],
   "source": [
    "#Смотрим лосс, делаем выводы, правим модель...\n",
    "plt.plot(range(len(train_losses)), train_losses, label='train')\n",
    "plt.plot(range(len(test_losses)), test_losses, label='test')\n",
    "plt.legend()\n",
    "plt.show()"
   ]
  },
  {
   "cell_type": "code",
   "execution_count": null,
   "metadata": {},
   "outputs": [],
   "source": [
    "#Смотрим точность, делаем выводы, правим модель...\n",
    "plt.plot(range(len(train_accuracy)), train_accuracy, label='train')\n",
    "plt.plot(range(len(test_accuracy)), test_accuracy, label='test')\n",
    "plt.legend()\n",
    "plt.show()"
   ]
  },
  {
   "cell_type": "code",
   "execution_count": null,
   "metadata": {},
   "outputs": [],
   "source": [
    "#Точность модели (финальная)\n",
    "model.eval()\n",
    "train_pred_labels = model.forward(X_train).max(1)[1]\n",
    "test_pred_labels = model.forward(X_test).max(1)[1]\n",
    "\n",
    "train_acc = accuracy_score(y_true = y_train, y_pred = train_pred_labels)\n",
    "test_acc = accuracy_score(y_true = y_test, y_pred = test_pred_labels)\n",
    "\n",
    "print(\"Train accuracy:\", train_acc)\n",
    "print(\"Test accuracy:\", test_acc)"
   ]
  }
 ],
 "metadata": {
  "kernelspec": {
   "display_name": "Python 3",
   "language": "python",
   "name": "python3"
  },
  "language_info": {
   "codemirror_mode": {
    "name": "ipython",
    "version": 3
   },
   "file_extension": ".py",
   "mimetype": "text/x-python",
   "name": "python",
   "nbconvert_exporter": "python",
   "pygments_lexer": "ipython3",
   "version": "3.7.6"
  }
 },
 "nbformat": 4,
 "nbformat_minor": 4
}
